{
 "cells": [
  {
   "cell_type": "code",
   "execution_count": 75,
   "metadata": {},
   "outputs": [],
   "source": [
    "import os\n",
    "import matplotlib.pyplot as plt\n",
    "import sqlalchemy as db\n",
    "import pandas as pd\n",
    "password = os.environ.get('DB_PASS')\n",
    "engine = db.create_engine(\"postgresql+psycopg2://postgres:\"+password+\"@/PewlettHackard\")\n",
    "connection = engine.connect()\n"
   ]
  },
  {
   "cell_type": "code",
   "execution_count": 76,
   "metadata": {},
   "outputs": [
    {
     "data": {
      "text/html": [
       "<div>\n",
       "<style scoped>\n",
       "    .dataframe tbody tr th:only-of-type {\n",
       "        vertical-align: middle;\n",
       "    }\n",
       "\n",
       "    .dataframe tbody tr th {\n",
       "        vertical-align: top;\n",
       "    }\n",
       "\n",
       "    .dataframe thead th {\n",
       "        text-align: right;\n",
       "    }\n",
       "</style>\n",
       "<table border=\"1\" class=\"dataframe\">\n",
       "  <thead>\n",
       "    <tr style=\"text-align: right;\">\n",
       "      <th></th>\n",
       "      <th>dept_no</th>\n",
       "      <th>dept_name</th>\n",
       "      <th>emp_no</th>\n",
       "      <th>first_name</th>\n",
       "      <th>last_name</th>\n",
       "      <th>gender</th>\n",
       "      <th>hire_date</th>\n",
       "      <th>from_date</th>\n",
       "      <th>to_date</th>\n",
       "      <th>salary</th>\n",
       "      <th>title</th>\n",
       "    </tr>\n",
       "  </thead>\n",
       "  <tbody>\n",
       "    <tr>\n",
       "      <th>0</th>\n",
       "      <td>d006</td>\n",
       "      <td>Quality Management</td>\n",
       "      <td>10010</td>\n",
       "      <td>Duangkaew</td>\n",
       "      <td>Piveteau</td>\n",
       "      <td>F</td>\n",
       "      <td>1989-08-24</td>\n",
       "      <td>2000-06-26</td>\n",
       "      <td>NaT</td>\n",
       "      <td>72488</td>\n",
       "      <td>Engineer</td>\n",
       "    </tr>\n",
       "    <tr>\n",
       "      <th>1</th>\n",
       "      <td>d007</td>\n",
       "      <td>Sales</td>\n",
       "      <td>10016</td>\n",
       "      <td>Kazuhito</td>\n",
       "      <td>Cappelletti</td>\n",
       "      <td>M</td>\n",
       "      <td>1995-01-27</td>\n",
       "      <td>1998-02-11</td>\n",
       "      <td>NaT</td>\n",
       "      <td>70889</td>\n",
       "      <td>Staff</td>\n",
       "    </tr>\n",
       "    <tr>\n",
       "      <th>2</th>\n",
       "      <td>d005</td>\n",
       "      <td>Development</td>\n",
       "      <td>10021</td>\n",
       "      <td>Ramzi</td>\n",
       "      <td>Erde</td>\n",
       "      <td>M</td>\n",
       "      <td>1988-02-10</td>\n",
       "      <td>1988-02-10</td>\n",
       "      <td>2002-07-15</td>\n",
       "      <td>55025</td>\n",
       "      <td>Technique Leader</td>\n",
       "    </tr>\n",
       "    <tr>\n",
       "      <th>3</th>\n",
       "      <td>d004</td>\n",
       "      <td>Production</td>\n",
       "      <td>10024</td>\n",
       "      <td>Suzette</td>\n",
       "      <td>Pettey</td>\n",
       "      <td>F</td>\n",
       "      <td>1997-05-19</td>\n",
       "      <td>1998-06-14</td>\n",
       "      <td>NaT</td>\n",
       "      <td>83733</td>\n",
       "      <td>Assistant Engineer</td>\n",
       "    </tr>\n",
       "    <tr>\n",
       "      <th>4</th>\n",
       "      <td>d004</td>\n",
       "      <td>Production</td>\n",
       "      <td>10044</td>\n",
       "      <td>Mingsen</td>\n",
       "      <td>Casley</td>\n",
       "      <td>F</td>\n",
       "      <td>1994-05-21</td>\n",
       "      <td>1994-05-21</td>\n",
       "      <td>NaT</td>\n",
       "      <td>40919</td>\n",
       "      <td>Technique Leader</td>\n",
       "    </tr>\n",
       "  </tbody>\n",
       "</table>\n",
       "</div>"
      ],
      "text/plain": [
       "  dept_no           dept_name emp_no first_name    last_name gender  \\\n",
       "0    d006  Quality Management  10010  Duangkaew     Piveteau      F   \n",
       "1    d007               Sales  10016   Kazuhito  Cappelletti      M   \n",
       "2    d005         Development  10021      Ramzi         Erde      M   \n",
       "3    d004          Production  10024    Suzette       Pettey      F   \n",
       "4    d004          Production  10044    Mingsen       Casley      F   \n",
       "\n",
       "   hire_date  from_date    to_date salary               title  \n",
       "0 1989-08-24 2000-06-26        NaT  72488            Engineer  \n",
       "1 1995-01-27 1998-02-11        NaT  70889               Staff  \n",
       "2 1988-02-10 1988-02-10 2002-07-15  55025    Technique Leader  \n",
       "3 1997-05-19 1998-06-14        NaT  83733  Assistant Engineer  \n",
       "4 1994-05-21 1994-05-21        NaT  40919    Technique Leader  "
      ]
     },
     "execution_count": 76,
     "metadata": {},
     "output_type": "execute_result"
    }
   ],
   "source": [
    "full_database = pd.read_sql_table('full_database', engine)\n",
    "full_database.head()"
   ]
  },
  {
   "cell_type": "code",
   "execution_count": 13,
   "metadata": {},
   "outputs": [
    {
     "data": {
      "text/plain": [
       "dept_no               object\n",
       "dept_name             object\n",
       "emp_no                object\n",
       "first_name            object\n",
       "last_name             object\n",
       "gender                object\n",
       "hire_date     datetime64[ns]\n",
       "from_date     datetime64[ns]\n",
       "to_date       datetime64[ns]\n",
       "salary               float64\n",
       "title                 object\n",
       "dtype: object"
      ]
     },
     "execution_count": 13,
     "metadata": {},
     "output_type": "execute_result"
    }
   ],
   "source": [
    "full_database['salary'] = full_database['salary'].astype('float')\n",
    "full_database.dtypes"
   ]
  },
  {
   "cell_type": "code",
   "execution_count": 14,
   "metadata": {},
   "outputs": [],
   "source": [
    "salary_mean = full_database.groupby(['title'])['salary'].mean()\n",
    "employee_title_mean = full_database.groupby(['title'])['emp_no'].count()"
   ]
  },
  {
   "cell_type": "code",
   "execution_count": 15,
   "metadata": {},
   "outputs": [
    {
     "data": {
      "text/html": [
       "<div>\n",
       "<style scoped>\n",
       "    .dataframe tbody tr th:only-of-type {\n",
       "        vertical-align: middle;\n",
       "    }\n",
       "\n",
       "    .dataframe tbody tr th {\n",
       "        vertical-align: top;\n",
       "    }\n",
       "\n",
       "    .dataframe thead th {\n",
       "        text-align: right;\n",
       "    }\n",
       "</style>\n",
       "<table border=\"1\" class=\"dataframe\">\n",
       "  <thead>\n",
       "    <tr style=\"text-align: right;\">\n",
       "      <th></th>\n",
       "      <th>Title</th>\n",
       "      <th>Employee Count</th>\n",
       "    </tr>\n",
       "  </thead>\n",
       "  <tbody>\n",
       "    <tr>\n",
       "      <th>0</th>\n",
       "      <td>Assistant Engineer</td>\n",
       "      <td>5835</td>\n",
       "    </tr>\n",
       "    <tr>\n",
       "      <th>1</th>\n",
       "      <td>Engineer</td>\n",
       "      <td>47307</td>\n",
       "    </tr>\n",
       "    <tr>\n",
       "      <th>2</th>\n",
       "      <td>Manager</td>\n",
       "      <td>9</td>\n",
       "    </tr>\n",
       "    <tr>\n",
       "      <th>3</th>\n",
       "      <td>Senior Engineer</td>\n",
       "      <td>97747</td>\n",
       "    </tr>\n",
       "    <tr>\n",
       "      <th>4</th>\n",
       "      <td>Senior Staff</td>\n",
       "      <td>92846</td>\n",
       "    </tr>\n",
       "    <tr>\n",
       "      <th>5</th>\n",
       "      <td>Staff</td>\n",
       "      <td>41134</td>\n",
       "    </tr>\n",
       "    <tr>\n",
       "      <th>6</th>\n",
       "      <td>Technique Leader</td>\n",
       "      <td>15155</td>\n",
       "    </tr>\n",
       "  </tbody>\n",
       "</table>\n",
       "</div>"
      ],
      "text/plain": [
       "                Title  Employee Count\n",
       "0  Assistant Engineer            5835\n",
       "1            Engineer           47307\n",
       "2             Manager               9\n",
       "3     Senior Engineer           97747\n",
       "4        Senior Staff           92846\n",
       "5               Staff           41134\n",
       "6    Technique Leader           15155"
      ]
     },
     "execution_count": 15,
     "metadata": {},
     "output_type": "execute_result"
    }
   ],
   "source": [
    "employee_title_mean_df = pd.DataFrame(employee_title_mean)\n",
    "employee_title_mean_df = employee_title_mean_df.reset_index()\n",
    "employee_title_mean_df.columns = ['Title','Employee Count']\n",
    "employee_title_mean_df"
   ]
  },
  {
   "cell_type": "code",
   "execution_count": 16,
   "metadata": {},
   "outputs": [
    {
     "data": {
      "text/html": [
       "<div>\n",
       "<style scoped>\n",
       "    .dataframe tbody tr th:only-of-type {\n",
       "        vertical-align: middle;\n",
       "    }\n",
       "\n",
       "    .dataframe tbody tr th {\n",
       "        vertical-align: top;\n",
       "    }\n",
       "\n",
       "    .dataframe thead th {\n",
       "        text-align: right;\n",
       "    }\n",
       "</style>\n",
       "<table border=\"1\" class=\"dataframe\">\n",
       "  <thead>\n",
       "    <tr style=\"text-align: right;\">\n",
       "      <th></th>\n",
       "      <th>Title</th>\n",
       "      <th>Salary</th>\n",
       "    </tr>\n",
       "  </thead>\n",
       "  <tbody>\n",
       "    <tr>\n",
       "      <th>0</th>\n",
       "      <td>Assistant Engineer</td>\n",
       "      <td>48564.4</td>\n",
       "    </tr>\n",
       "    <tr>\n",
       "      <th>1</th>\n",
       "      <td>Engineer</td>\n",
       "      <td>48535.1</td>\n",
       "    </tr>\n",
       "    <tr>\n",
       "      <th>2</th>\n",
       "      <td>Manager</td>\n",
       "      <td>49600.6</td>\n",
       "    </tr>\n",
       "    <tr>\n",
       "      <th>3</th>\n",
       "      <td>Senior Engineer</td>\n",
       "      <td>48506.8</td>\n",
       "    </tr>\n",
       "    <tr>\n",
       "      <th>4</th>\n",
       "      <td>Senior Staff</td>\n",
       "      <td>58504.0</td>\n",
       "    </tr>\n",
       "    <tr>\n",
       "      <th>5</th>\n",
       "      <td>Staff</td>\n",
       "      <td>58432.9</td>\n",
       "    </tr>\n",
       "    <tr>\n",
       "      <th>6</th>\n",
       "      <td>Technique Leader</td>\n",
       "      <td>48582.4</td>\n",
       "    </tr>\n",
       "  </tbody>\n",
       "</table>\n",
       "</div>"
      ],
      "text/plain": [
       "                Title   Salary\n",
       "0  Assistant Engineer  48564.4\n",
       "1            Engineer  48535.1\n",
       "2             Manager  49600.6\n",
       "3     Senior Engineer  48506.8\n",
       "4        Senior Staff  58504.0\n",
       "5               Staff  58432.9\n",
       "6    Technique Leader  48582.4"
      ]
     },
     "execution_count": 16,
     "metadata": {},
     "output_type": "execute_result"
    }
   ],
   "source": [
    "salary_mean_df = pd.DataFrame(salary_mean)\n",
    "salary_mean_df = salary_mean_df.reset_index()\n",
    "salary_mean_df['salary'] = salary_mean_df['salary'].round(1)\n",
    "salary_mean_df.columns = ['Title','Salary']\n",
    "salary_mean_df"
   ]
  },
  {
   "cell_type": "code",
   "execution_count": 28,
   "metadata": {},
   "outputs": [
    {
     "name": "stdout",
     "output_type": "stream",
     "text": [
      "C:\\Users\\Rafael Boscan\n"
     ]
    }
   ],
   "source": [
    "%cd"
   ]
  },
  {
   "cell_type": "code",
   "execution_count": 73,
   "metadata": {
    "scrolled": true
   },
   "outputs": [
    {
     "data": {
      "image/png": "[encoded data removed]",
      "text/plain": [
       "<Figure size 432x288 with 1 Axes>"
      ]
     },
     "metadata": {
      "needs_background": "light"
     },
     "output_type": "display_data"
    }
   ],
   "source": [
    "salaryvstitle = salary_mean_df.plot(kind='bar',\n",
    "                                    x='Title',\n",
    "                                    y='Salary', \n",
    "                                    color = 'maroon',\n",
    "                                    edgecolor='black', \n",
    "                                    alpha=.7, \n",
    "                                    legend = False)\n",
    "salaryvstitle = salaryvstitle.get_figure()\n",
    "salaryvstitle.savefig('Documents\\GitHub\\PewlettHackard\\salary-vs-title.png')"
   ]
  },
  {
   "cell_type": "code",
   "execution_count": 74,
   "metadata": {},
   "outputs": [
    {
     "data": {
      "image/png": "[encoded data removed]",
      "text/plain": [
       "<Figure size 432x288 with 1 Axes>"
      ]
     },
     "metadata": {
      "needs_background": "light"
     },
     "output_type": "display_data"
    }
   ],
   "source": [
    "employee_vs_title = employee_title_mean_df.plot(kind='bar',x='Title',y='Employee Count', \n",
    "                                                color = 'maroon',\n",
    "                                                edgecolor='black', \n",
    "                                                alpha=.7, \n",
    "                                                legend = False)\n",
    "employee_vs_title = employee_vs_title.get_figure()\n",
    "employee_vs_title.savefig('Documents\\GitHub\\PewlettHackard\\employee-count.png')"
   ]
  },
  {
   "cell_type": "code",
   "execution_count": null,
   "metadata": {},
   "outputs": [],
   "source": []
  }
 ],
 "metadata": {
  "kernelspec": {
   "display_name": "Python 3",
   "language": "python",
   "name": "python3"
  },
  "language_info": {
   "codemirror_mode": {
    "name": "ipython",
    "version": 3
   },
   "file_extension": ".py",
   "mimetype": "text/x-python",
   "name": "python",
   "nbconvert_exporter": "python",
   "pygments_lexer": "ipython3",
   "version": "3.7.3"
  }
 },
 "nbformat": 4,
 "nbformat_minor": 2
}
